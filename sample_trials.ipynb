{
 "cells": [
  {
   "cell_type": "code",
   "execution_count": 1,
   "metadata": {},
   "outputs": [
    {
     "name": "stderr",
     "output_type": "stream",
     "text": [
      "/Users/areebasad/anaconda3/lib/python3.6/site-packages/IPython/core/interactiveshell.py:2698: DtypeWarning: Columns (30) have mixed types. Specify dtype option on import or set low_memory=False.\n",
      "  interactivity=interactivity, compiler=compiler, result=result)\n"
     ]
    }
   ],
   "source": [
    "import pandas as pd\n",
    "import matplotlib.pyplot as plt\n",
    "import numpy as np\n",
    "df = pd.read_csv('train.csv')"
   ]
  },
  {
   "cell_type": "code",
   "execution_count": 8,
   "metadata": {
    "collapsed": true
   },
   "outputs": [],
   "source": [
    "df['host_response_rate'] = df['host_response_rate'].str.rstrip('%').astype('float')\n",
    "df['extra_people'] = df['extra_people'].apply(lambda x: int(x[1:][:-3]))"
   ]
  },
  {
   "cell_type": "code",
   "execution_count": 9,
   "metadata": {},
   "outputs": [
    {
     "name": "stdout",
     "output_type": "stream",
     "text": [
      "33538\n"
     ]
    }
   ],
   "source": [
    "print(len(df))"
   ]
  },
  {
   "cell_type": "code",
   "execution_count": 2,
   "metadata": {},
   "outputs": [],
   "source": []
  },
  {
   "cell_type": "code",
   "execution_count": 10,
   "metadata": {},
   "outputs": [
    {
     "name": "stdout",
     "output_type": "stream",
     "text": [
      "host_response_rate : -0.032374585704818895\n",
      "host_listings_count : 0.06680834141225497\n",
      "accommodates : 0.5132684846770206\n",
      "bathrooms : 0.2937617091301414\n",
      "bedrooms : 0.3814779711547969\n",
      "beds : 0.4081457378648756\n",
      "square_feet : 0.32114744906142767\n",
      "guests_included : 0.30296098213791317\n",
      "extra_people : 0.09178403049859177\n",
      "minimum_nights : 0.01950297947634597\n",
      "maximum_nights : -0.0006075590980105631\n",
      "number_of_reviews : -0.032250380235440745\n",
      "review_scores_rating : 0.049288186902030094\n",
      "review_scores_accuracy : 0.006649011679568624\n",
      "review_scores_cleanliness : 0.061048047137062474\n",
      "review_scores_checkin : -0.006679625187453869\n",
      "review_scores_communication : 0.0016576084546887405\n",
      "review_scores_location : 0.14642628658122964\n",
      "review_scores_value : -0.03182296946239348\n",
      "calculated_host_listings_count : 0.07818624947446186\n",
      "reviews_per_month : -0.023036649866773617\n"
     ]
    }
   ],
   "source": [
    "columns = ['host_response_rate',\n",
    "       'host_listings_count', 'accommodates',\n",
    "       'bathrooms', 'bedrooms', 'beds',  'square_feet', 'guests_included', 'extra_people', 'minimum_nights',\n",
    "       'maximum_nights', 'number_of_reviews', \n",
    "       'review_scores_rating', 'review_scores_accuracy',\n",
    "       'review_scores_cleanliness', 'review_scores_checkin',\n",
    "       'review_scores_communication', 'review_scores_location',\n",
    "       'review_scores_value', 'calculated_host_listings_count',\n",
    "       'reviews_per_month']\n",
    "for i in columns:\n",
    "    print(str(i) + ' : ' + str(df['price'].corr(df[i])))"
   ]
  },
  {
   "cell_type": "code",
   "execution_count": 66,
   "metadata": {
    "collapsed": true
   },
   "outputs": [],
   "source": []
  },
  {
   "cell_type": "code",
   "execution_count": null,
   "metadata": {
    "collapsed": true
   },
   "outputs": [],
   "source": []
  },
  {
   "cell_type": "code",
   "execution_count": 67,
   "metadata": {
    "collapsed": true
   },
   "outputs": [],
   "source": [
    "states = ['NY','Ny','New York','ny']\n",
    "df = df[df.state.isin(states)]\n",
    "df = df[df['country']=='United States']"
   ]
  },
  {
   "cell_type": "code",
   "execution_count": null,
   "metadata": {
    "collapsed": true
   },
   "outputs": [],
   "source": []
  },
  {
   "cell_type": "code",
   "execution_count": 68,
   "metadata": {
    "collapsed": true
   },
   "outputs": [],
   "source": [
    "#df = df.drop(['name','summary','space','description','experiences_offered'\n",
    "             # ,'neighborhood_overview','notes','transit','access','interaction'\n",
    "             # ,'house_rules','host_id','host_name','host_location'\n",
    "             # ,'host_about','host_acceptance_rate','host_neighbourhood','neighbourhood_cleansed' \n",
    "             # ,'neighbourhood_group_cleansed','city','zipcode','market','country_code'\n",
    "             # ,'country','property_type','bed_type','first_review','last_review'\n",
    "             # ,'is_business_travel_ready','host_since','first_review','last_review'\n",
    "             # ,'state'],axis=1)\n",
    "\n",
    "\n"
   ]
  },
  {
   "cell_type": "code",
   "execution_count": 69,
   "metadata": {
    "collapsed": true
   },
   "outputs": [],
   "source": [
    "#df['host_verifications'] = df['host_verifications'].apply(lambda x: len(x.strip('][').split(', ')))"
   ]
  },
  {
   "cell_type": "code",
   "execution_count": 70,
   "metadata": {
    "collapsed": true
   },
   "outputs": [],
   "source": [
    "#responsetime = {'within an hour': 0, 'within a few hours': 1,'within a day':2,'a few days or more':4, np.NaN: 1000}\n",
    "#booleans = {'t':1,'f':0, np.NaN:1000}\n",
    "#df['host_response_time'] = [responsetime[item] for item in df['host_response_time']] \n",
    "#df = df[df['host_response_time']<1000]"
   ]
  },
  {
   "cell_type": "code",
   "execution_count": 71,
   "metadata": {
    "collapsed": true
   },
   "outputs": [],
   "source": [
    "#df['host_response_rate'] = df['host_response_rate'].str.rstrip('%').astype('float')"
   ]
  },
  {
   "cell_type": "code",
   "execution_count": 72,
   "metadata": {
    "collapsed": true
   },
   "outputs": [],
   "source": [
    "#df['host_is_superhost'] = [booleans[item] for item in df['host_is_superhost']] \n",
    "#df = df[df['host_is_superhost']<1000]"
   ]
  },
  {
   "cell_type": "code",
   "execution_count": 73,
   "metadata": {
    "collapsed": true
   },
   "outputs": [],
   "source": [
    "#df['host_has_profile_pic'] = [booleans[item] for item in df['host_has_profile_pic']]\n",
    "#df = df[df['host_has_profile_pic']<1000]"
   ]
  },
  {
   "cell_type": "code",
   "execution_count": 74,
   "metadata": {
    "collapsed": true
   },
   "outputs": [],
   "source": [
    "#df['host_identity_verified'] = [booleans[item] for item in df['host_identity_verified']]\n",
    "#df = df[df['host_identity_verified']<1000]"
   ]
  },
  {
   "cell_type": "code",
   "execution_count": 75,
   "metadata": {
    "collapsed": true
   },
   "outputs": [],
   "source": [
    "#roomtypes = {'Entire home/apt':3, 'Private room':2, 'Shared room':1}\n",
    "#df['room_type'] = [roomtypes[item] for item in df['room_type']]"
   ]
  },
  {
   "cell_type": "code",
   "execution_count": 76,
   "metadata": {
    "collapsed": true
   },
   "outputs": [],
   "source": [
    "#df['amenities'] = df['amenities'].apply(lambda x: len(x[:-1][1:].split(',')))"
   ]
  },
  {
   "cell_type": "code",
   "execution_count": 77,
   "metadata": {
    "collapsed": true
   },
   "outputs": [],
   "source": [
    "#df['extra_people'] = df['extra_people'].apply(lambda x: int(x[1:][:-3]))"
   ]
  },
  {
   "cell_type": "code",
   "execution_count": 78,
   "metadata": {
    "collapsed": true
   },
   "outputs": [],
   "source": [
    "#df['instant_bookable'] = [booleans[item] for item in df['instant_bookable']]\n",
    "#df = df[df['instant_bookable']<1000]"
   ]
  },
  {
   "cell_type": "code",
   "execution_count": 79,
   "metadata": {
    "collapsed": true
   },
   "outputs": [],
   "source": [
    "#canc = {'flexible':1, 'moderate':2, 'super_strict_60':7, 'strict_14_with_grace_period':3,\n",
    "# 'super_strict_30': 6,'long_term':5 ,'strict':4}\n",
    "#df['cancellation_policy'] = [canc[item] for item in df['cancellation_policy']] "
   ]
  },
  {
   "cell_type": "code",
   "execution_count": 80,
   "metadata": {
    "collapsed": true
   },
   "outputs": [],
   "source": [
    "#df['require_guest_profile_picture'] = [booleans[item] for item in df['require_guest_profile_picture']]\n",
    "#df = df[df['require_guest_profile_picture']<1000]\n",
    "#df['require_guest_phone_verification'] = [booleans[item] for item in df['require_guest_phone_verification']] \n",
    "#df = df[df['require_guest_phone_verification']<1000]"
   ]
  },
  {
   "cell_type": "code",
   "execution_count": null,
   "metadata": {
    "collapsed": true
   },
   "outputs": [],
   "source": []
  },
  {
   "cell_type": "code",
   "execution_count": 81,
   "metadata": {
    "collapsed": true
   },
   "outputs": [],
   "source": [
    "#df = df.fillna(df.mean())"
   ]
  },
  {
   "cell_type": "code",
   "execution_count": null,
   "metadata": {
    "collapsed": true
   },
   "outputs": [],
   "source": []
  },
  {
   "cell_type": "code",
   "execution_count": 82,
   "metadata": {
    "collapsed": true
   },
   "outputs": [],
   "source": [
    "#for i in df.columns:\n",
    "#    factor = 3\n",
    "#    upper_lim = df[i].mean () + df[i].std () * factor\n",
    "#    lower_lim = df[i].mean () - df[i].std () * factor\n",
    "#    df = df[(df[i] < upper_lim) & (df[i] > lower_lim)]"
   ]
  },
  {
   "cell_type": "code",
   "execution_count": 83,
   "metadata": {},
   "outputs": [
    {
     "data": {
      "image/png": "[encoded data removed]",
      "text/plain": [
       "<matplotlib.figure.Figure at 0x1a278aedd8>"
      ]
     },
     "metadata": {},
     "output_type": "display_data"
    }
   ],
   "source": [
    "df['price'].hist(bins = 1000)\n",
    "plt.show()"
   ]
  },
  {
   "cell_type": "code",
   "execution_count": 84,
   "metadata": {},
   "outputs": [
    {
     "name": "stdout",
     "output_type": "stream",
     "text": [
      "33538 33538\n"
     ]
    }
   ],
   "source": [
    "from math import isnan\n",
    "\n",
    "def to_float(s):\n",
    "    try:\n",
    "        ret = float(s)\n",
    "    except:\n",
    "        ret = -1\n",
    "    if isnan(ret):\n",
    "        ret = -1\n",
    "    return ret\n",
    "\n",
    "def to_int(s):\n",
    "    try:\n",
    "        ret = int(s)\n",
    "    except:\n",
    "        ret = -1\n",
    "    return ret\n",
    "\n",
    "#categorical = ['host_id', 'host_name', 'host_since', 'host_location',\n",
    "    #    'host_is_superhost', 'host_neighbourhood','host_has_profile_pic',\n",
    "    #   'host_identity_verified', 'neighbourhood_cleansed',\n",
    "     #  'neighbourhood_group_cleansed', 'city', 'state', 'zipcode', 'market',\n",
    "     #  'country_code', 'country', 'property_type', 'room_type', \n",
    "     #   'bed_type', 'first_review', 'last_review', 'require_guest_profile_picture',\n",
    "      # 'require_guest_phone_verification','instant_bookable','is_business_travel_ready',\n",
    "      #       'cancellation_policy']\n",
    "#categorieslist = []\n",
    "#for i in categorical:\n",
    "#    categorieslist.append([x for x in list(set(df[i])) if type(x) is str])\n",
    "#categories = [x for x in list(set(df['neighbourhood_group_cleansed'])) if type(x) is str]\n",
    "\n",
    "    \n",
    "#print(len(categories))\n",
    "\n",
    "def create_feature(row):\n",
    "    features = []\n",
    "    columns = [ 'host_response_rate',\n",
    "       'host_listings_count', 'accommodates',\n",
    "       'bathrooms', 'bedrooms', 'beds',  'square_feet', 'guests_included', 'extra_people', 'minimum_nights',\n",
    "       'maximum_nights', 'number_of_reviews', \n",
    "       'review_scores_rating', 'review_scores_accuracy',\n",
    "       'review_scores_cleanliness', 'review_scores_checkin',\n",
    "       'review_scores_communication', 'review_scores_location',\n",
    "       'review_scores_value', 'calculated_host_listings_count',\n",
    "       'reviews_per_month']\n",
    "    for col in columns:\n",
    "        features.append(to_float(row[col]))\n",
    "   # one_hots = []\n",
    "    #for i in range(len(categorical)):\n",
    "    #    col = categorical[i]\n",
    "    #    one_hots.append([int(row[col] == category) for category in categorieslist[i]])\n",
    "    #one_hot = [int(row.neighbourhood_group_cleansed == category) for category in categories]\n",
    "    \n",
    "    return features #+ one_hots\n",
    "\n",
    "train_X, train_y = [], []\n",
    "for (idx, row) in df.iterrows():\n",
    "    price = float(row.price)\n",
    "    feature = create_feature(row)\n",
    "\n",
    "    train_X.append(feature)\n",
    "    train_y.append(price)\n",
    "\n",
    "print(len(train_X), len(train_y))"
   ]
  },
  {
   "cell_type": "code",
   "execution_count": 85,
   "metadata": {
    "collapsed": true
   },
   "outputs": [],
   "source": [
    "# 108\n",
    "#from sklearn import linear_model\n",
    "#regr = linear_model.LinearRegression()\n",
    "#regr.fit(train_X, train_y)  \n",
    "\n",
    "#kept running past 25 minutes, stopped\n",
    "#from sklearn import svm\n",
    "#regr = svm.SVR(kernel='linear')\n",
    "#regr.fit(train_X, train_y)\n",
    "\n",
    "#from sklearn import linear_model\n",
    "#regr = linear_model.Ridge(alpha=.5)\n",
    "#regr.fit(train_X, train_y)"
   ]
  },
  {
   "cell_type": "code",
   "execution_count": 86,
   "metadata": {
    "collapsed": true
   },
   "outputs": [],
   "source": [
    "#112\n",
    "#from sklearn.ensemble import RandomForestClassifier\n",
    "#regr = RandomForestClassifier(n_estimators=130)\n",
    "#regr.fit(train_X, train_y)"
   ]
  },
  {
   "cell_type": "code",
   "execution_count": 87,
   "metadata": {
    "collapsed": true
   },
   "outputs": [],
   "source": [
    "#from sklearn import linear_model\n",
    "#regr = linear_model.Ridge(alpha=1)\n",
    "#regr.fit(train_X, train_y)"
   ]
  },
  {
   "cell_type": "code",
   "execution_count": 88,
   "metadata": {
    "collapsed": true
   },
   "outputs": [],
   "source": [
    "#140\n",
    "#from sklearn import svm\n",
    "#regr = svm.SVR(kernel = 'linear')\n",
    "#regr.fit(train_X, train_y)"
   ]
  },
  {
   "cell_type": "code",
   "execution_count": 89,
   "metadata": {
    "collapsed": true
   },
   "outputs": [],
   "source": [
    "#108\n",
    "#import numpy as np\n",
    "#from sklearn.metrics import mean_squared_error\n",
    "#from sklearn.datasets import make_friedman1\n",
    "#from sklearn.ensemble import GradientBoostingRegressor\n",
    "#regr = GradientBoostingRegressor(n_estimators=100, learning_rate=0.1,\n",
    "#max_depth=1, random_state=0, loss='ls').fit(train_X, train_y)"
   ]
  },
  {
   "cell_type": "code",
   "execution_count": 90,
   "metadata": {},
   "outputs": [
    {
     "name": "stderr",
     "output_type": "stream",
     "text": [
      "/Users/areebasad/anaconda3/lib/python3.6/site-packages/sklearn/linear_model/_coordinate_descent.py:476: ConvergenceWarning: Objective did not converge. You might want to increase the number of iterations. Duality gap: 172636091.2363814, tolerance: 59400.08358251536\n",
      "  positive)\n"
     ]
    },
    {
     "data": {
      "text/plain": [
       "Lasso(alpha=0.1, copy_X=True, fit_intercept=True, max_iter=1000,\n",
       "      normalize=False, positive=False, precompute=False, random_state=None,\n",
       "      selection='cyclic', tol=0.0001, warm_start=False)"
      ]
     },
     "execution_count": 90,
     "metadata": {},
     "output_type": "execute_result"
    }
   ],
   "source": [
    "#108\n",
    "from sklearn import linear_model\n",
    "regr = linear_model.Lasso(alpha=0.1)\n",
    "regr.fit(train_X, train_y)"
   ]
  },
  {
   "cell_type": "code",
   "execution_count": 91,
   "metadata": {
    "collapsed": true
   },
   "outputs": [],
   "source": [
    "#114\n",
    "#from sklearn.ensemble import RandomForestRegressor\n",
    "#regr = RandomForestRegressor(max_depth=2, random_state=0)\n",
    "#regr.fit(train_X, train_y)"
   ]
  },
  {
   "cell_type": "code",
   "execution_count": 92,
   "metadata": {
    "collapsed": true
   },
   "outputs": [],
   "source": [
    "#from sklearn.svm import SVR\n",
    "#from sklearn.ensemble import BaggingRegressor\n",
    "#regr = BaggingRegressor(base_estimator=SVR(),\n",
    "#                         n_estimators=10, random_state=0).fit(train_X, train_y)"
   ]
  },
  {
   "cell_type": "code",
   "execution_count": 93,
   "metadata": {},
   "outputs": [
    {
     "name": "stderr",
     "output_type": "stream",
     "text": [
      "/Users/areebasad/anaconda3/lib/python3.6/site-packages/IPython/core/interactiveshell.py:2698: DtypeWarning: Columns (30) have mixed types. Specify dtype option on import or set low_memory=False.\n",
      "  interactivity=interactivity, compiler=compiler, result=result)\n"
     ]
    }
   ],
   "source": [
    "import pandas as pd\n",
    "\n",
    "test_df = pd.read_csv('test.csv')"
   ]
  },
  {
   "cell_type": "code",
   "execution_count": 94,
   "metadata": {
    "collapsed": true
   },
   "outputs": [],
   "source": [
    "test_df['host_response_rate'] = test_df['host_response_rate'].str.rstrip('%').astype('float')\n",
    "test_df['extra_people'] = test_df['extra_people'].apply(lambda x: int(x[1:][:-3]))\n",
    "test_df = test_df[['id','host_response_rate',\n",
    "       'host_listings_count', 'accommodates',\n",
    "       'bathrooms', 'bedrooms', 'beds',  'square_feet',\n",
    "                   'guests_included', 'extra_people', 'minimum_nights',\n",
    "       'maximum_nights', 'number_of_reviews', \n",
    "       'review_scores_rating', 'review_scores_accuracy',\n",
    "       'review_scores_cleanliness', 'review_scores_checkin',\n",
    "       'review_scores_communication', 'review_scores_location',\n",
    "       'review_scores_value', 'calculated_host_listings_count',\n",
    "       'reviews_per_month']]"
   ]
  },
  {
   "cell_type": "code",
   "execution_count": 95,
   "metadata": {
    "collapsed": true
   },
   "outputs": [],
   "source": [
    "test_ids, test_X = [], []\n",
    "for (idx, row) in test_df.iterrows():\n",
    "    feature = create_feature(row)\n",
    "    test_ids.append(row.id)\n",
    "    test_X.append(feature)\n",
    "test_y = regr.predict(test_X)"
   ]
  },
  {
   "cell_type": "code",
   "execution_count": 96,
   "metadata": {},
   "outputs": [
    {
     "name": "stdout",
     "output_type": "stream",
     "text": [
      "17337\n"
     ]
    }
   ],
   "source": [
    "print(len(test_y))"
   ]
  },
  {
   "cell_type": "code",
   "execution_count": 97,
   "metadata": {},
   "outputs": [
    {
     "data": {
      "text/plain": [
       "Id             int64\n",
       "Predicted    float64\n",
       "dtype: object"
      ]
     },
     "execution_count": 97,
     "metadata": {},
     "output_type": "execute_result"
    }
   ],
   "source": [
    "output_df = pd.DataFrame()\n",
    "output_df['Id'] = test_ids\n",
    "output_df['Id'] = output_df['Id'].astype(int)\n",
    "output_df['Predicted'] = test_y\n",
    "output_df.dtypes"
   ]
  },
  {
   "cell_type": "code",
   "execution_count": 98,
   "metadata": {
    "collapsed": true
   },
   "outputs": [],
   "source": [
    "output_df.to_csv('mine.csv', index = False)"
   ]
  },
  {
   "cell_type": "code",
   "execution_count": null,
   "metadata": {
    "collapsed": true,
    "scrolled": true
   },
   "outputs": [],
   "source": [
    "import numpy as np\n",
    "\n",
    "mean = np.mean(list(df['price']))"
   ]
  },
  {
   "cell_type": "code",
   "execution_count": 221,
   "metadata": {
    "collapsed": true
   },
   "outputs": [],
   "source": [
    "output_df = pd.DataFrame()\n",
    "output_df['Id'] = test_ids\n",
    "output_df['Predicted'] = [mean for i in range(len(test_ids))]\n",
    "output_df.to_csv('mean_value_baseline.csv', index = False)"
   ]
  },
  {
   "cell_type": "code",
   "execution_count": null,
   "metadata": {
    "collapsed": true
   },
   "outputs": [],
   "source": []
  },
  {
   "cell_type": "code",
   "execution_count": null,
   "metadata": {
    "collapsed": true
   },
   "outputs": [],
   "source": []
  }
 ],
 "metadata": {
  "kernelspec": {
   "display_name": "Python 3",
   "language": "python",
   "name": "python3"
  },
  "language_info": {
   "codemirror_mode": {
    "name": "ipython",
    "version": 3
   },
   "file_extension": ".py",
   "mimetype": "text/x-python",
   "name": "python",
   "nbconvert_exporter": "python",
   "pygments_lexer": "ipython3",
   "version": "3.6.8"
  }
 },
 "nbformat": 4,
 "nbformat_minor": 2
}
